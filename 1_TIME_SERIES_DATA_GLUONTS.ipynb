{
 "cells": [
  {
   "cell_type": "code",
   "execution_count": null,
   "metadata": {},
   "outputs": [],
   "source": [
    "# Execute this cell first to load custom css\n",
    "from IPython.core.display import HTML\n",
    "HTML(filename=\"./assets/theme.html\")"
   ]
  },
  {
   "cell_type": "markdown",
   "metadata": {},
   "source": [
    "![MLU_Logo](./assets/MLU_Logo.png)"
   ]
  },
  {
   "cell_type": "markdown",
   "metadata": {},
   "source": [
    "# Quick Start Workshop to Modern Forecasting\n",
    "\n",
    "## <a name=\"0\">NOTEBOOK 1. Time Series Data and GluonTS</a>\n",
    "\n",
    "\n",
    "### Time Series Data\n",
    "\n",
    "A time series consists of data points indexed in time order, typically encoding a **collection of observations obtained through repeated measurements over time**. As our world gets increasingly instrumented, sensors and systems are constantly emitting a relentless stream of time series data. \n",
    "\n",
    "Multiple domains benefit from the analysis of time series data, such as weather forecasting, economic indicators, patient health evolution, server metrics, application performance monitoring, network data, sensor data, events, clicks and many other types of analytics data.\n",
    "\n",
    "Pandas is the core data manipulation and analysis library for Python and it has some highly useful utilities for dealing with time series data. In this notebook we will show some of what Pandas can do with time series data.\n",
    "\n",
    "### GluonTS\n",
    "\n",
    "Gluon Time Series [GluonTS](https://ts.gluon.ai/) is the Gluon toolkit for probabilistic time series modeling, focusing on deep learning-based models.\n",
    "\n",
    "GluonTS provides utilities for loading and iterating over time series datasets, state of the art models ready to be trained, and building blocks to define your own models and quickly experiment with different solutions. \n",
    "\n",
    "With GluonTS you can:\n",
    "\n",
    " * Train and evaluate any of the built-in models on your own data, and quickly come up with a solution for your time series tasks.\n",
    "\n",
    " * Use the provided abstractions and building blocks to create custom time series models, and rapidly benchmark them against baseline algorithms.\n",
    " \n",
    "Take a look at the [GluonTS original paper](https://arxiv.org/abs/1906.05264) for more details on this library.\n",
    "\n",
    "### Table of Contents\n",
    "\n",
    "1. <a href=\"#1\">GluonTS Time Series Data</a> \n",
    "2. <a href=\"#2\">Pandas Support for Time Series Data</a> \n",
    "3. <a href=\"#3\">Train and Test Splits in GluonTS Data</a>"
   ]
  },
  {
   "cell_type": "code",
   "execution_count": null,
   "metadata": {},
   "outputs": [],
   "source": [
    "!pip install --upgrade --quiet pip\n",
    "!pip install --upgrade --quiet gluonts\n",
    "\n",
    "# Import libraries\n",
    "import pandas as pd\n",
    "import matplotlib.pyplot as plt\n",
    "import matplotlib.dates as mdates\n",
    "\n",
    "import warnings\n",
    "warnings.filterwarnings('ignore')\n",
    "\n",
    "%matplotlib inline\n",
    "\n",
    "import gluonts\n",
    "import mxnet as mx\n",
    "from mxnet import gluon\n",
    "\n",
    "from gluonts.evaluation.backtest import make_evaluation_predictions\n",
    "from gluonts.evaluation import Evaluator\n",
    "\n",
    "gluonts.__version__"
   ]
  },
  {
   "cell_type": "markdown",
   "metadata": {},
   "source": [
    "## <a name=\"1\">1. GluonTS Data</a>\n",
    "\n",
    "(<a href=\"#0\">Go to top</a>)\n",
    "\n",
    "GluonTS comes with a number of publicly available datasets. "
   ]
  },
  {
   "cell_type": "code",
   "execution_count": null,
   "metadata": {},
   "outputs": [],
   "source": [
    "from gluonts.dataset.repository.datasets import get_dataset, dataset_recipes\n",
    "from gluonts.dataset.util import to_pandas\n",
    "\n",
    "print(f\"Available datasets: {list(dataset_recipes.keys())}\")"
   ]
  },
  {
   "cell_type": "markdown",
   "metadata": {},
   "source": [
    "To download one of the built-in datasets, we can use `get_dataset` with one of the above names. GluonTS can re-use the saved dataset so that it does not need to be downloaded again: simply set `regenerate=False`.\n",
    "\n",
    "For this example we will use the data set [M4-hourly](https://en.wikipedia.org/wiki/Makridakis_Competitions#Fourth_competition,_started_on_January_1,_2018,_ended_on_May_31,_2018), a subset of the [M4 competition](https://www.sciencedirect.com/science/article/pii/S0169207019301128) data set that consists of a collection of 414 time series sampled at 1h intervals."
   ]
  },
  {
   "cell_type": "code",
   "execution_count": null,
   "metadata": {},
   "outputs": [],
   "source": [
    "dataset = get_dataset(\"m4_hourly\", regenerate=False)"
   ]
  },
  {
   "cell_type": "markdown",
   "metadata": {},
   "source": [
    "The datasets provided by GluonTS are objects that consists of three main members:\n",
    "\n",
    "- `dataset.train` is an iterable collection of data entries used for training. Each entry corresponds to one time series.\n",
    "- `dataset.test` is an iterable collection of data entries used for inference. The test dataset is an extended version of the train dataset that contains a window in the end of each time series that was not seen during training. This window has length equal to the recommended prediction length.\n",
    "- `dataset.metadata` contains metadata of the dataset such as the frequency of the time series, a recommended prediction horizon, associated features, etc.\n",
    "\n",
    "Let's inspect the metadata of this dataset:"
   ]
  },
  {
   "cell_type": "code",
   "execution_count": null,
   "metadata": {},
   "outputs": [],
   "source": [
    "# Inspect this dataset metadata\n",
    "dataset.metadata"
   ]
  },
  {
   "cell_type": "markdown",
   "metadata": {},
   "source": [
    "This dataset contains 414 time sequences. We will save the first entry to inspect it using some utilities from the Pandas library. GluonTS offers a utility function to transform the data into a `Series` suitable to be used with pandas. Notice how the index of the time series is an object of type `PeriodIndex`."
   ]
  },
  {
   "cell_type": "code",
   "execution_count": null,
   "metadata": {},
   "outputs": [],
   "source": [
    "# Get the first time series in the training set\n",
    "train_entry = next(iter(dataset.train))\n",
    "\n",
    "train_series = to_pandas(train_entry)\n",
    "train_series.head()"
   ]
  },
  {
   "cell_type": "code",
   "execution_count": null,
   "metadata": {},
   "outputs": [],
   "source": [
    "type(train_series.index)"
   ]
  },
  {
   "cell_type": "markdown",
   "metadata": {},
   "source": [
    "<a id='ex'></a>\n",
    "### <mark>Exercise: Investigate the time series\n",
    "\n",
    "- What range does the index of the time series span? I.e. what's are earliest and latest timestamps in its index?\n",
    "- What is the average value of the time series?\n",
    "    \n",
    "You can code your answer in the cell below. If you get stuck or want to check out your results, please uncomment the `load` line."
   ]
  },
  {
   "cell_type": "code",
   "execution_count": null,
   "metadata": {},
   "outputs": [],
   "source": [
    "# %load answers/investigate.py\n"
   ]
  },
  {
   "cell_type": "markdown",
   "metadata": {},
   "source": [
    "## <a name=\"2\">2. Pandas Support for Time Series Data</a>\n",
    "\n",
    "(<a href=\"#0\">Go to top</a>)\n",
    "\n",
    "Pandas offers extensive capabilities and features for time series data. Starting with the support of time-related objects, Pandas is able to capture four general concepts related to time sequences: \n",
    "\n",
    "1. **Date times:** A specific date and time with timezone support. Similar to `datetime.datetime` from the standard library.\n",
    "2. **Time deltas:** An absolute time duration. Similar to `datetime.timedelta` from the standard library.\n",
    "3. **Time spans:** A span of time defined by a point in time and its associated frequency.\n",
    "4. **Date offsets:** A relative time duration that respects calendar arithmetic. \n",
    "\n",
    "<img src=\"./assets/pandas_time_support.png\" width=\"700\">\n",
    "\n",
    "Read more about [pandas support of time series](https://pandas.pydata.org/pandas-docs/stable/user_guide/timeseries.html)."
   ]
  },
  {
   "cell_type": "markdown",
   "metadata": {},
   "source": [
    "Creating a variable to represent any given instant in time is seamless with the `Timestamp` object, that allows to specify the desired date and time."
   ]
  },
  {
   "cell_type": "code",
   "execution_count": null,
   "metadata": {},
   "outputs": [],
   "source": [
    "ts = pd.Timestamp(\"2022-09-21 08:30:00\")\n",
    "print(ts)"
   ]
  },
  {
   "cell_type": "markdown",
   "metadata": {},
   "source": [
    "The `Timestamp` constructor is very flexible, in the sense that it can handle a variety of inputs. Here is an alternative way to create the same time stamp as above:"
   ]
  },
  {
   "cell_type": "code",
   "execution_count": null,
   "metadata": {},
   "outputs": [],
   "source": [
    "ts = pd.Timestamp(year=2022, month=9, day=21, hour=8, minute=30, second=0)\n",
    "print(ts)"
   ]
  },
  {
   "cell_type": "markdown",
   "metadata": {},
   "source": [
    "The `Timestamp` constructor understands time zone conversions. By default, it is unaware of the time zone but can be made time zone-aware by passing a time zone to the parameter `tz` when creating the object. \n",
    "\n",
    "Read more about [time zone handling in Pandas](https://tedboy.github.io/pandas/timeseries/timeseries14.html)."
   ]
  },
  {
   "cell_type": "markdown",
   "metadata": {},
   "source": [
    "Check out the various functionalities offered by Pandas regarding time stamps:"
   ]
  },
  {
   "cell_type": "code",
   "execution_count": null,
   "metadata": {},
   "outputs": [],
   "source": [
    "print(f\"How many days are in the month of {ts.date()}?\\tAnswer: {ts.days_in_month}\\n\")\n",
    "print(f\"Which day of the week is {ts.date()}?\\tAnswer: {ts.day_name()}\\n\")\n",
    "print(f\"Is {ts.year} a leap year?\\t Answer: {ts.is_leap_year}\\n\")\n",
    "print(f\"Is {ts.date()} the start of a quarter?\\t Answer: {ts.is_quarter_start}\")"
   ]
  },
  {
   "cell_type": "markdown",
   "metadata": {},
   "source": [
    "<a id='ex'></a>\n",
    "### <mark>Exercise: Investigate other functionalities of time stamps\n",
    "    \n",
    "- What other pieces of information can you extract from a Panda's `Timestamp`?\n",
    "    \n",
    "Hint: type the name of your time stamp variable followed by a `.` and press `<tab>` for a drop-down menu of available methods to appear."
   ]
  },
  {
   "cell_type": "code",
   "execution_count": null,
   "metadata": {},
   "outputs": [],
   "source": [
    "# Type your code here\n"
   ]
  },
  {
   "cell_type": "markdown",
   "metadata": {},
   "source": [
    "A `Timedelta` represents the lapse of time between two time stamps. Time deltas can be added or substracted from each other, or from a time stamp. "
   ]
  },
  {
   "cell_type": "code",
   "execution_count": null,
   "metadata": {},
   "outputs": [],
   "source": [
    "ts2 = pd.Timestamp(\"2022-09-21 19:45:00\")\n",
    "td = ts2 - ts\n",
    "\n",
    "print(f\"The lapse between {ts} and {ts2} is {td}. That corresponds to {td.seconds} seconds.\")"
   ]
  },
  {
   "cell_type": "markdown",
   "metadata": {},
   "source": [
    "The `Period` object has been specifically conceived to represent periods of time. A period references a specific length of time between a start and end timestamp which is invariable and does not overlap. Due to this property, it is convenient to use a `PeriodIndex` as index of a time series of data that is regularly sampled, as is the case of the M4 hourly data :)\n",
    "\n",
    "The span represented by `Period` can be specified explicitly, or inferred from the time stamp string format."
   ]
  },
  {
   "cell_type": "code",
   "execution_count": null,
   "metadata": {},
   "outputs": [],
   "source": [
    "# Monthly period inferred from the time stamp format\n",
    "pr = pd.Period(\"2018-6\")\n",
    "pr"
   ]
  },
  {
   "cell_type": "code",
   "execution_count": null,
   "metadata": {},
   "outputs": [],
   "source": [
    "# Daily period explicitely specified\n",
    "pr2 = pd.Period(\"2018-6\", \"D\")\n",
    "pr2"
   ]
  },
  {
   "cell_type": "markdown",
   "metadata": {},
   "source": [
    "Working with a `PeriodIndex` provides powerful functionalities, such as the convenient subsetting of time period or the adapted time scale on plots. Resample is a convenient method to change the frequency of a time series.\n",
    "\n",
    "Let's inspect here the index of our M4 hourly data:"
   ]
  },
  {
   "cell_type": "code",
   "execution_count": null,
   "metadata": {},
   "outputs": [],
   "source": [
    "train_series.index"
   ]
  },
  {
   "cell_type": "markdown",
   "metadata": {},
   "source": [
    "Plotting a time series with Pandas is straightforward:"
   ]
  },
  {
   "cell_type": "code",
   "execution_count": null,
   "metadata": {},
   "outputs": [],
   "source": [
    "train_series.plot(figsize=(12,4));"
   ]
  },
  {
   "cell_type": "markdown",
   "metadata": {},
   "source": [
    "Thanks to the slicing mechanism, it is also very easy to zoom on any particular time window within the series. "
   ]
  },
  {
   "cell_type": "code",
   "execution_count": null,
   "metadata": {},
   "outputs": [],
   "source": [
    "train_series[\"1750-01-10\":\"1750-01-13\"].plot(figsize=(12,4));"
   ]
  },
  {
   "cell_type": "markdown",
   "metadata": {},
   "source": [
    "Resampling data by hour (`H`), day (`D`), week (`W`), month (`M`), etc. allows to perform aggregation to different time scales. See below how to plot the aggregated values per day for all days for which we have 24 hourly measurements."
   ]
  },
  {
   "cell_type": "code",
   "execution_count": null,
   "metadata": {},
   "outputs": [],
   "source": [
    "train_series[\"1750-01-01\":\"1750-01-29\"].resample(\"D\").sum().plot(figsize=(12,4));"
   ]
  },
  {
   "cell_type": "markdown",
   "metadata": {},
   "source": [
    "<a id='ex'></a>\n",
    "### <mark>Exercise: Resample and aggregate\n",
    "\n",
    "- Plot the average value per week.\n",
    "- Plot the average value per week with weeks starting on Monday. \n",
    "    \n",
    "Hint: Read about [anchoring suffixes](https://pandas.pydata.org/docs/user_guide/timeseries.html#anchored-offsets) and use the corresponding to weekly frequency starting on Monday."
   ]
  },
  {
   "cell_type": "code",
   "execution_count": null,
   "metadata": {},
   "outputs": [],
   "source": [
    "# %load answers/resample1.py\n"
   ]
  },
  {
   "cell_type": "code",
   "execution_count": null,
   "metadata": {},
   "outputs": [],
   "source": [
    "# %load answers/resample2.py\n"
   ]
  },
  {
   "cell_type": "markdown",
   "metadata": {},
   "source": [
    "## <a name=\"3\">3. Train and Test Splits in GluonTS Data</a>\n",
    "\n",
    "(<a href=\"#0\">Go to top</a>)\n",
    "\n",
    "Datasets pre-loaded in GluonTS already provide a train-test split of the data for the purpose of training and testing forecasting models. \n",
    "\n",
    "As mentioned above, the test dataset is an extended version of the train dataset that contains a window in the end of each time series that was not seen during training. This window has length equal to the recommended prediction length.\n",
    "\n",
    "Let us visualize one of the time series of the M4 hourly dataset and inspect the difference between the train and the test series."
   ]
  },
  {
   "cell_type": "code",
   "execution_count": null,
   "metadata": {},
   "outputs": [],
   "source": [
    "# Get the first time series in the training set\n",
    "train_entry = next(iter(dataset.train))\n",
    "\n",
    "# Get the first time series in the test set\n",
    "test_entry = next(iter(dataset.test))\n",
    "\n",
    "# Convert the timeseries to pandas series objects to make plotting easier\n",
    "test_series = to_pandas(test_entry)\n",
    "train_series = to_pandas(train_entry)\n",
    "\n",
    "fig, ax = plt.subplots(2, 1, sharex=True, sharey=True, figsize=(10, 7))\n",
    "\n",
    "train_series.plot(ax=ax[0])\n",
    "ax[0].legend([\"train\"], loc=\"upper left\")\n",
    "\n",
    "test_series.plot(ax=ax[1])\n",
    "ax[1].axvline(train_series.index[-1], color=\"r\")  # end of train dataset\n",
    "ax[1].legend([\"test\", \"end of train series\"], loc=\"upper left\")\n",
    "\n",
    "plt.show()"
   ]
  },
  {
   "cell_type": "code",
   "execution_count": null,
   "metadata": {},
   "outputs": [],
   "source": [
    "print(\n",
    "    f\"Length of forecasting window in test dataset: {len(test_series) - len(train_series)}\"\n",
    ")\n",
    "print(f\"Recommended prediction horizon: {dataset.metadata.prediction_length}\")\n",
    "print(f\"Frequency of the time series: {dataset.metadata.freq}\")"
   ]
  },
  {
   "cell_type": "markdown",
   "metadata": {},
   "source": [
    "## **Conclusion**\n",
    "\n",
    "In this notebook we've shown how to load multivariate time series data using the GluonTS pre-packaged data sets. We have explored how Pandas can seamlessly work with time series data, helping us to visualize and manipulate it. "
   ]
  }
 ],
 "metadata": {
  "kernelspec": {
   "display_name": "conda_mxnet_latest_p37",
   "language": "python",
   "name": "conda_mxnet_latest_p37"
  },
  "language_info": {
   "codemirror_mode": {
    "name": "ipython",
    "version": 3
   },
   "file_extension": ".py",
   "mimetype": "text/x-python",
   "name": "python",
   "nbconvert_exporter": "python",
   "pygments_lexer": "ipython3",
   "version": "3.7.10"
  }
 },
 "nbformat": 4,
 "nbformat_minor": 4
}
